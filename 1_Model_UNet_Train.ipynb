{
 "cells": [
  {
   "cell_type": "code",
   "execution_count": 1,
   "metadata": {},
   "outputs": [],
   "source": [
    "\n",
    "import pandas as pd\n",
    "from PIL import Image\n",
    "import matplotlib.pyplot as plt\n",
    "from torch.utils.data import DataLoader, ConcatDataset\n",
    "from torch.utils.data import Dataset\n",
    "import torch.optim as optim\n",
    "from torchvision import transforms\n",
    "import numpy as np\n",
    "import torch\n",
    "from torch import nn\n",
    "import os\n",
    "from torch.utils.data import DataLoader, random_split\n",
    "from torch.nn import DataParallel\n",
    "from torch.utils.data import Subset\n",
    "import shutil\n",
    "\n",
    "# import sys\n",
    "# sys.path.append('D:\\\\Downloads\\\\fresh_projects\\\\SegmAIParserClothes')\n",
    "\n",
    "# from codes.metrics import RMSELoss"
   ]
  },
  {
   "cell_type": "code",
   "execution_count": 2,
   "metadata": {},
   "outputs": [],
   "source": [
    "# Hyperparameters\n",
    "# We can adjust the learning_rate here to improve the model performance, scheduler is used to reduce the learning rate at specific epochs\n",
    "# The batch size can be adjusted based on the available memory\n",
    "# If apply_augmentations is set to True, the model will apply augmentations to the images to improve the model performance\n",
    "load_saved_model = False # Set to True to load a saved model otherwise, set to False to train a new model\n",
    "apply_augmentations = False # Set to True to apply augmentations\n",
    "training_epoch = 100\n",
    "batch_size = 1\n",
    "learning_rate = 0.0005\n",
    "momentum = 0.9\n",
    "weight_decay = 1\n",
    "scheduler = 1\n",
    "\n",
    "device = \"cuda\"\n",
    "logdir = \"logs/\"\n",
    "resultdir = \"logs/results/\"\n",
    "\n",
    "# Make result directory\n",
    "if os.path.exists(resultdir):\n",
    "    shutil.rmtree(resultdir)\n",
    "os.makedirs(resultdir)"
   ]
  },
  {
   "cell_type": "code",
   "execution_count": 3,
   "metadata": {},
   "outputs": [],
   "source": [
    "class Fashion_Data(Dataset):\n",
    "    \"\"\"\n",
    "    A custom dataset class for loading fashion-related training and ground truth images.\n",
    "    \"\"\"\n",
    "    def __init__(self, folder_train, folder_ground_truth, augmentation=None):\n",
    "        \"\"\"\n",
    "        Initializes the dataset object.\n",
    "\n",
    "        Args:\n",
    "            folder_train (str): Path to the directory containing training images.\n",
    "            folder_ground_truth (str): Path to the directory containing ground truth images.\n",
    "            augmentation (callable, optional): Data augmentation pipeline. Defaults to None.\n",
    "\n",
    "        The transformation pipeline converts images to PyTorch tensors by default. \n",
    "        We have to return this into a Tensor\n",
    "        Tensor is a multi-dimensional matrix containing elements of a single data type that represent image, data, etc.\n",
    "        \"\"\"\n",
    "        self.folder_train = folder_train\n",
    "        self.folder_ground_truth = folder_ground_truth\n",
    "        # self.transform = transforms.Compose([transforms.ToTensor()]) if augmentation is None else transforms.Compose([augmentation, transforms.ToTensor()]) \n",
    "        self.transform = transforms.Compose([transforms.Resize((512, 384)), transforms.ToTensor()]) if augmentation is None else transforms.Compose([augmentation, transforms.Resize((512, 384)), transforms.ToTensor()])\n",
    "        self.filenames = [f for f in os.listdir(folder_train) if os.path.isfile(os.path.join(folder_train, f))]\n",
    "        \n",
    "    def __len__(self):\n",
    "        return len(self.filenames)\n",
    "    \n",
    "    def __getitem__(self, idx):\n",
    "        \"\"\"\n",
    "        Retrieves the image and its corresponding ground truth by index.\n",
    "\n",
    "        Args:\n",
    "            idx (int): Index of the dataset item to fetch.\n",
    "\n",
    "        Returns:\n",
    "            tuple: A tuple containing the transformed training image and its ground truth.\n",
    "        \"\"\"\n",
    "        img_name_train = os.path.join(self.folder_train, self.filenames[idx])\n",
    "        img_name_gt = os.path.join(self.folder_ground_truth, self.filenames[idx])\n",
    "\n",
    "        img_train = Image.open(img_name_train).convert('L')\n",
    "        img_gt = Image.open(img_name_gt).convert('L')\n",
    "\n",
    "        img_train = self.transform(img_train)\n",
    "        img_gt = self.transform(img_gt)\n",
    "\n",
    "        return img_train, img_gt"
   ]
  },
  {
   "cell_type": "code",
   "execution_count": 4,
   "metadata": {},
   "outputs": [
    {
     "name": "stdout",
     "output_type": "stream",
     "text": [
      "480\n"
     ]
    }
   ],
   "source": [
    "train_folder = \"dataset/upper/cloth_align\"\n",
    "gt_folder = \"dataset/upper/cloth_align_parse-bytedance\"\n",
    "\n",
    "full_set = Fashion_Data(train_folder, gt_folder)\n",
    "\n",
    "# We want to validate model using fraction dataset (how many percent parts of the dataset will be used)\n",
    "fraction_size = 1\n",
    "\n",
    "# Calculate sizes\n",
    "full_dataset_size = len(full_set)\n",
    "subset_size = int(fraction_size * full_dataset_size)  # Total size of the subset to use\n",
    "\n",
    "# Create indices for the subset\n",
    "subset_indices = torch.randperm(full_dataset_size)[:subset_size].tolist()\n",
    "\n",
    "# Create a subset based on the indices\n",
    "subset = Subset(full_set, subset_indices)\n",
    "\n",
    "# Now, calculate train and test sizes for the subset\n",
    "train_size = int(0.995 * len(subset))  # 90% of the subset size\n",
    "test_size = len(subset) - train_size  # The rest for testing\n",
    "\n",
    "# Split the subset into train and test\n",
    "train_dataset, test_dataset = random_split(subset, [train_size, test_size], generator=torch.Generator().manual_seed(42))\n",
    "\n",
    "print(len(train_dataset))"
   ]
  },
  {
   "cell_type": "code",
   "execution_count": 5,
   "metadata": {},
   "outputs": [
    {
     "name": "stderr",
     "output_type": "stream",
     "text": [
      "d:\\anaconda\\Lib\\site-packages\\paramiko\\transport.py:219: CryptographyDeprecationWarning: Blowfish has been deprecated\n",
      "  \"class\": algorithms.Blowfish,\n"
     ]
    }
   ],
   "source": [
    "# Section for data augmentation\n",
    "# Including augmentations to the dataset can help improve the model's performance\n",
    "# These are geometry augmentation and color-wise augmentation\n",
    "# You can enable apply_augmentations to apply the augmentations to the dataset\n",
    "import copy\n",
    "from albumentations import (\n",
    "    Compose, GridDistortion, RandomBrightnessContrast, RGBShift, ShiftScaleRotate,\n",
    "    ColorJitter, GaussNoise,\n",
    "    HueSaturationValue,\n",
    "    OpticalDistortion,\n",
    "    # IAASharpen,\n",
    "    CLAHE,\n",
    "    ToGray\n",
    ")\n",
    "\n",
    "augmentations = {\n",
    "    \"augmentation1\": Compose([\n",
    "        RandomBrightnessContrast(p=0.5),\n",
    "        RGBShift(p=0.5),\n",
    "        ColorJitter(p=0.5),\n",
    "        GaussNoise(p=0.5)\n",
    "    ]),\n",
    "    \"augmentation2\": Compose([\n",
    "        RandomBrightnessContrast(p=0.5),\n",
    "        RGBShift(p=0.5),\n",
    "    ]),\n",
    "    \"augmentation3\": Compose([\n",
    "        ToGray(always_apply=True),\n",
    "    ]),\n",
    "    \"augmentation4\": Compose([\n",
    "        CLAHE(clip_limit=2.0, tile_grid_size=(8, 8), p=0.5),\n",
    "        RandomBrightnessContrast(brightness_limit=(0.6, 0.8), contrast_limit=0.2, p=0.9),\n",
    "    ]),\n",
    "    \"augmentation5\": Compose([\n",
    "        RGBShift(r_shift_limit=20, g_shift_limit=20, b_shift_limit=20, p=0.5),\n",
    "        ColorJitter(brightness=0.5, p=0.5)\n",
    "    ]),\n",
    "    \"augmentation6\": Compose([\n",
    "        GaussNoise(var_limit=(20.0, 70.0), p=0.5),\n",
    "        RandomBrightnessContrast(brightness_limit=0.2, contrast_limit=0.2, p=0.5)\n",
    "    ]),\n",
    "    \"augmentation7\": Compose([\n",
    "        HueSaturationValue(hue_shift_limit=20, sat_shift_limit=0, val_shift_limit=-20, p=0.5),\n",
    "        RandomBrightnessContrast(brightness_limit=-0.3, contrast_limit=0.3, p=0.5),\n",
    "        GaussNoise(var_limit=(10.0, 30.0), p=0.5)\n",
    "    ]),\n",
    "    \"augmentation8\": Compose([\n",
    "        OpticalDistortion(distort_limit=0.05, shift_limit=0.05, p=0.5),\n",
    "        RandomBrightnessContrast(brightness_limit=-0.4, contrast_limit=0.4, p=0.5),\n",
    "        ColorJitter(brightness=0.2, contrast=0.2, saturation=0.2, hue=0.1, p=0.5)\n",
    "    ]),\n",
    "    # \"augmentation9\": Compose([\n",
    "    #     IAASharpen(alpha=(0.1, 0.3), lightness=(0.5, 1.0), p=0.5),\n",
    "    #     RandomBrightnessContrast(brightness_limit=-0.5, contrast_limit=0.5, p=0.5),\n",
    "    #     RGBShift(r_shift_limit=30, g_shift_limit=30, b_shift_limit=30, p=0.5)\n",
    "    # ]),\n",
    "    \"augmentation9\": Compose([\n",
    "        CLAHE(clip_limit=2.0, tile_grid_size=(8, 8), p=0.5),\n",
    "        RandomBrightnessContrast(brightness_limit=(-0.7, -0.9), contrast_limit=0.4, p=0.9),\n",
    "        ColorJitter(brightness=0.3, contrast=0.3, saturation=0.3, hue=0.2, p=0.5)\n",
    "    ])\n",
    "}\n",
    "\n",
    "\n",
    "if apply_augmentations:\n",
    "\n",
    "    dataset_size = len(train_dataset)\n",
    "    sixth = dataset_size // 10\n",
    "    sizes = [sixth] * 9  # Size for each of the first five splits\n",
    "    sizes.append(dataset_size - sum(sizes))  # The size for the last split to cover all remaining data\n",
    "\n",
    "    # Randomly split the dataset into 6 parts\n",
    "    train_dataset1, train_dataset2, train_dataset3, train_dataset4, train_dataset5, train_dataset6, \\\n",
    "        train_dataset7, train_dataset8, train_dataset9, train_dataset10 = random_split(\n",
    "        train_dataset,\n",
    "        sizes,\n",
    "        generator=torch.Generator().manual_seed(42)\n",
    "    )\n",
    "    \n",
    "    train_dataset1.dataset.transform = augmentations[\"augmentation1\"]\n",
    "    train_dataset2.dataset.transform = augmentations[\"augmentation2\"]\n",
    "    train_dataset3.dataset.transform = augmentations[\"augmentation3\"]\n",
    "    train_dataset4.dataset.transform = augmentations[\"augmentation4\"]\n",
    "    train_dataset5.dataset.transform = augmentations[\"augmentation5\"]\n",
    "    train_dataset6.dataset.transform = augmentations[\"augmentation6\"]\n",
    "    train_dataset7.dataset.transform = augmentations[\"augmentation7\"]\n",
    "    train_dataset8.dataset.transform = augmentations[\"augmentation8\"]\n",
    "    train_dataset9.dataset.transform = augmentations[\"augmentation9\"]\n",
    "    # train_dataset10.dataset.transform = augmentations[\"augmentation10\"]\n",
    "    \n",
    "    # Combining the datasets\n",
    "    train_dataset = ConcatDataset([train_dataset, train_dataset1, train_dataset2, train_dataset3, train_dataset4, train_dataset5, train_dataset6, train_dataset7, train_dataset8, train_dataset9])"
   ]
  },
  {
   "cell_type": "code",
   "execution_count": 6,
   "metadata": {},
   "outputs": [
    {
     "name": "stdout",
     "output_type": "stream",
     "text": [
      "Train size: 480, Test size: 3\n",
      "Length of train_dataset: 480\n",
      "Shape of the images: torch.Size([1, 512, 384])\n"
     ]
    },
    {
     "data": {
      "image/png": "[encoded data removed]",
      "text/plain": [
       "<Figure size 1000x500 with 2 Axes>"
      ]
     },
     "metadata": {},
     "output_type": "display_data"
    }
   ],
   "source": [
    "# Description of dataloader\n",
    "# DataLoader is used to load the data in batches\n",
    "# It is used to load the data in parallel using multiprocessing workers\n",
    "dataloader_train = DataLoader(train_dataset, batch_size=batch_size, shuffle=True, num_workers=0, pin_memory=True)\n",
    "dataloader_test = DataLoader(test_dataset, batch_size=batch_size, shuffle=True, num_workers=0, pin_memory=True)\n",
    "\n",
    "print(f'Train size: {len(train_dataset)}, Test size: {len(test_dataset)}')\n",
    "print(f\"Length of train_dataset: {len(train_dataset)}\")\n",
    "\n",
    "# Get the example image from the train dataset\n",
    "first_image_train, first_image_gt = train_dataset[4]\n",
    "print(f'Shape of the images: {first_image_train.shape}')\n",
    "\n",
    "# Plot the first image side by side\n",
    "fig, axes = plt.subplots(1, 2, figsize=(10, 5))\n",
    "axes[0].imshow(first_image_train.permute(1, 2, 0))\n",
    "axes[0].set_title('Input Image')\n",
    "axes[1].imshow(first_image_gt.permute(1, 2, 0))\n",
    "axes[1].set_title('Ground Truth')\n",
    "\n",
    "\n",
    "plt.show()"
   ]
  },
  {
   "cell_type": "code",
   "execution_count": 7,
   "metadata": {},
   "outputs": [
    {
     "name": "stderr",
     "output_type": "stream",
     "text": [
      "d:\\anaconda\\Lib\\site-packages\\torch\\nn\\parallel\\data_parallel.py:32: UserWarning: \n",
      "    There is an imbalance between your GPUs. You may want to exclude GPU 1 which\n",
      "    has less than 75% of the memory or cores of GPU 0. You can do so by setting\n",
      "    the device_ids argument to DataParallel, or by setting the CUDA_VISIBLE_DEVICES\n",
      "    environment variable.\n",
      "  warnings.warn(imbalance_warn.format(device_ids[min_pos], device_ids[max_pos]))\n"
     ]
    }
   ],
   "source": [
    "# The diagram is provided to understand the architecture\n",
    "# The architecture is based on the SegNet model\n",
    "# The SegNet model is used for semantic segmentation\n",
    "# The model consists of an encoder and a decoder\n",
    "# The encoder is used to extract features from the input image\n",
    "# The decoder is used to generate the output image\n",
    "from architecture.segnet import SegNet\n",
    "\n",
    "model = SegNet(in_channels=1, out_channels=1).to(device)\n",
    "model = DataParallel(model)\n",
    "optimizer = optim.AdamW(model.parameters(), lr=learning_rate, weight_decay=weight_decay)"
   ]
  },
  {
   "cell_type": "code",
   "execution_count": 8,
   "metadata": {},
   "outputs": [],
   "source": [
    "# The code to make sure the model input and output are correct, we can test the first batch to fed into the network\n",
    "# data = next(iter(dataloader_train))\n",
    "\n",
    "# test_data = data[0]\n",
    "# output_test = model(test_data.to(device))\n",
    "# print(output_test.shape)"
   ]
  },
  {
   "cell_type": "code",
   "execution_count": 9,
   "metadata": {},
   "outputs": [],
   "source": [
    "from tqdm import tqdm\n",
    "from torchvision.utils import save_image\n",
    "\n",
    "class Engine(object):\n",
    "    def __init__(self, model, optimizer, device, ema=None):\n",
    "        # Initialize the Engine with the model, optimizer, and the device it's running on.\n",
    "        self.model = model\n",
    "        self.optimizer = optimizer\n",
    "        self.device = device\n",
    "        # Current epoch of training.\n",
    "        self.cur_epoch = 0\n",
    "        # Number of iterations the training has run.\n",
    "        self.cur_iter = 0\n",
    "        # The best validation epoch, used to track the epoch with the best validation performance.\n",
    "        self.bestval_epoch = 0\n",
    "        # Lists to track the training and validation losses.\n",
    "        self.train_loss = []\n",
    "        self.val_loss = []\n",
    "        # Criterion for calculating loss. Here, it's Mean Squared Error Loss for regression tasks.\n",
    "        self.criterion = torch.nn.L1Loss() #RMSELoss() #torch.nn.MSELoss()\n",
    "\n",
    "    \"\"\" Block to begin training \"\"\"\n",
    "    def train(self, dataloader_train):\n",
    "        loss_epoch = 0.\n",
    "        num_batches = 0\n",
    "        # Set the model to training mode.\n",
    "        self.model.train()\n",
    "        \n",
    "        # Train loop\n",
    "        # tqdm is used to display the training progress for each epoch.\n",
    "        pbar = tqdm(dataloader_train, desc='Train Epoch {}'.format(self.cur_epoch))\n",
    "        for data in pbar:\n",
    "            # efficiently zero gradients\n",
    "            # Zero the gradients before running the backward pass.\n",
    "            self.optimizer.zero_grad(set_to_none=True)\n",
    "            images = data[0].to(self.device, dtype=torch.float32)   # Image that will be fed into network\n",
    "            gt_mass = data[1].to(self.device, dtype=torch.float32)  # Ensure gt_mass is a float tensor, The ground truth of mass\n",
    "\n",
    "            # Pass the images through the model to get predictions.\n",
    "            pred_mass = self.model(images)\n",
    "\n",
    "            # Calculate the loss, backpropagation, and optimization\n",
    "            loss = self.criterion(pred_mass, gt_mass)\n",
    "            loss.backward()\n",
    "            # Perform a single optimization step (parameter update).\n",
    "            self.optimizer.step()\n",
    "\n",
    "            # Aggregate the loss for the epoch\n",
    "            loss_epoch += float(loss.item())\n",
    "            num_batches += 1\n",
    "\n",
    "            pbar.set_description(\"Loss: {:.8f}\".format(loss.item()))\n",
    "            \n",
    "        pbar.close()\n",
    "        avg_loss = loss_epoch / num_batches\n",
    "        self.train_loss.append(avg_loss)\n",
    "\n",
    "        self.cur_epoch += 1\n",
    "        pbar.set_description(\"Epoch: {}, Average Loss: {:.8f}\".format(self.cur_epoch, avg_loss))\n",
    "\n",
    "    def test(self, dataloader_test):\n",
    "        self.model.eval()\n",
    "        loss_epoch = 0.\n",
    "        num_batches = 0\n",
    "        \n",
    "        # Create a directory for the current epoch's results\n",
    "        epoch_result_dir = os.path.join(resultdir, str(self.cur_epoch))\n",
    "        os.makedirs(epoch_result_dir, exist_ok=True)\n",
    "\n",
    "        # Prepare to collect predictions and ground truth\n",
    "        with torch.no_grad():  # No need to calculate gradients\n",
    "            pbar = tqdm(dataloader_test, desc='Test Epoch {}'.format(self.cur_epoch))\n",
    "            for batch_idx, data in enumerate(pbar):\n",
    "                images = data[0].to(self.device, dtype=torch.float32)\n",
    "                gt_mask = data[1].to(self.device, dtype=torch.float32)\n",
    "\n",
    "                pred_mask = self.model(images)\n",
    "\n",
    "                loss = self.criterion(pred_mask, gt_mask)\n",
    "                loss_epoch += float(loss.item())\n",
    "                num_batches += 1\n",
    "                pbar.set_description(\"Test Loss: {:.8f}\".format(loss.item()))\n",
    "                \n",
    "                for idx, pred in enumerate(pred_mask):\n",
    "                    save_image(pred, os.path.join(epoch_result_dir, f'prediction_{batch_idx}_{idx}.png'))\n",
    "\n",
    "        avg_loss = loss_epoch / num_batches\n",
    "        self.val_loss.append(avg_loss)\n",
    "        \n",
    "        print(f\"Test Epoch: {self.cur_epoch}, Average Loss: {avg_loss:.8f}\")\n",
    "        return avg_loss\n"
   ]
  },
  {
   "cell_type": "code",
   "execution_count": 10,
   "metadata": {},
   "outputs": [
    {
     "name": "stdout",
     "output_type": "stream",
     "text": [
      "d:\\Downloads\\fresh_projects\\SegmAIParserClothes\n",
      "start\n",
      "======Total trainable parameters:  29442433\n"
     ]
    },
    {
     "name": "stderr",
     "output_type": "stream",
     "text": [
      "Loss: 0.32647187: 100%|██████████| 480/480 [00:56<00:00,  8.46it/s]\n",
      "Test Loss: 0.33803499: 100%|██████████| 3/3 [00:00<00:00,  8.52it/s]\n"
     ]
    },
    {
     "name": "stdout",
     "output_type": "stream",
     "text": [
      "Test Epoch: 1, Average Loss: 0.33858532\n"
     ]
    },
    {
     "name": "stderr",
     "output_type": "stream",
     "text": [
      "Loss: 0.19574277: 100%|██████████| 480/480 [00:52<00:00,  9.10it/s]\n",
      "Test Loss: 0.20885703: 100%|██████████| 3/3 [00:00<00:00,  9.31it/s]\n"
     ]
    },
    {
     "name": "stdout",
     "output_type": "stream",
     "text": [
      "Test Epoch: 2, Average Loss: 0.20254637\n"
     ]
    },
    {
     "name": "stderr",
     "output_type": "stream",
     "text": [
      "Loss: 0.06645933: 100%|██████████| 480/480 [00:52<00:00,  9.07it/s]\n",
      "Test Loss: 0.08825825: 100%|██████████| 3/3 [00:00<00:00,  9.01it/s]\n"
     ]
    },
    {
     "name": "stdout",
     "output_type": "stream",
     "text": [
      "Test Epoch: 3, Average Loss: 0.08578862\n"
     ]
    },
    {
     "name": "stderr",
     "output_type": "stream",
     "text": [
      "Loss: 0.02022691: 100%|██████████| 480/480 [00:52<00:00,  9.13it/s]\n",
      "Test Loss: 0.02156302: 100%|██████████| 3/3 [00:00<00:00, 11.03it/s]\n"
     ]
    },
    {
     "name": "stdout",
     "output_type": "stream",
     "text": [
      "Test Epoch: 4, Average Loss: 0.02398700\n"
     ]
    },
    {
     "name": "stderr",
     "output_type": "stream",
     "text": [
      "Loss: 0.00783128: 100%|██████████| 480/480 [00:50<00:00,  9.54it/s]\n",
      "Test Loss: 0.00709211: 100%|██████████| 3/3 [00:00<00:00, 12.59it/s]\n"
     ]
    },
    {
     "name": "stdout",
     "output_type": "stream",
     "text": [
      "Test Epoch: 5, Average Loss: 0.01115657\n"
     ]
    },
    {
     "name": "stderr",
     "output_type": "stream",
     "text": [
      "Loss: 0.00451538: 100%|██████████| 480/480 [00:50<00:00,  9.47it/s]\n",
      "Test Loss: 0.01355337: 100%|██████████| 3/3 [00:00<00:00, 13.71it/s]\n"
     ]
    },
    {
     "name": "stdout",
     "output_type": "stream",
     "text": [
      "Test Epoch: 6, Average Loss: 0.00753428\n"
     ]
    },
    {
     "name": "stderr",
     "output_type": "stream",
     "text": [
      "Loss: 0.00379754: 100%|██████████| 480/480 [00:50<00:00,  9.44it/s]\n",
      "Test Loss: 0.00993873: 100%|██████████| 3/3 [00:00<00:00, 14.67it/s]\n"
     ]
    },
    {
     "name": "stdout",
     "output_type": "stream",
     "text": [
      "Test Epoch: 7, Average Loss: 0.00522792\n"
     ]
    },
    {
     "name": "stderr",
     "output_type": "stream",
     "text": [
      "Loss: 0.00371644: 100%|██████████| 480/480 [00:50<00:00,  9.54it/s]\n",
      "Test Loss: 0.01252535: 100%|██████████| 3/3 [00:00<00:00, 13.64it/s]\n"
     ]
    },
    {
     "name": "stdout",
     "output_type": "stream",
     "text": [
      "Test Epoch: 8, Average Loss: 0.00594760\n"
     ]
    },
    {
     "name": "stderr",
     "output_type": "stream",
     "text": [
      "Loss: 0.00323496: 100%|██████████| 480/480 [00:50<00:00,  9.54it/s]\n",
      "Test Loss: 0.00742994: 100%|██████████| 3/3 [00:00<00:00, 14.34it/s]\n"
     ]
    },
    {
     "name": "stdout",
     "output_type": "stream",
     "text": [
      "Test Epoch: 9, Average Loss: 0.00389354\n"
     ]
    },
    {
     "name": "stderr",
     "output_type": "stream",
     "text": [
      "Loss: 0.00250435: 100%|██████████| 480/480 [00:50<00:00,  9.52it/s]\n",
      "Test Loss: 0.01037821: 100%|██████████| 3/3 [00:00<00:00, 14.74it/s]\n"
     ]
    },
    {
     "name": "stdout",
     "output_type": "stream",
     "text": [
      "Test Epoch: 10, Average Loss: 0.00512260\n"
     ]
    },
    {
     "name": "stderr",
     "output_type": "stream",
     "text": [
      "Loss: 0.00332711: 100%|██████████| 480/480 [00:50<00:00,  9.44it/s]\n",
      "Test Loss: 0.00644029: 100%|██████████| 3/3 [00:00<00:00, 14.35it/s]\n"
     ]
    },
    {
     "name": "stdout",
     "output_type": "stream",
     "text": [
      "Test Epoch: 11, Average Loss: 0.00336881\n"
     ]
    },
    {
     "name": "stderr",
     "output_type": "stream",
     "text": [
      "Loss: 0.00341990: 100%|██████████| 480/480 [00:50<00:00,  9.47it/s]\n",
      "Test Loss: 0.00176205: 100%|██████████| 3/3 [00:00<00:00, 16.08it/s]\n"
     ]
    },
    {
     "name": "stdout",
     "output_type": "stream",
     "text": [
      "Test Epoch: 12, Average Loss: 0.00378596\n"
     ]
    },
    {
     "name": "stderr",
     "output_type": "stream",
     "text": [
      "Loss: 0.00217118: 100%|██████████| 480/480 [00:50<00:00,  9.56it/s]\n",
      "Test Loss: 0.01089457: 100%|██████████| 3/3 [00:00<00:00, 15.87it/s]\n"
     ]
    },
    {
     "name": "stdout",
     "output_type": "stream",
     "text": [
      "Test Epoch: 13, Average Loss: 0.00490546\n"
     ]
    },
    {
     "name": "stderr",
     "output_type": "stream",
     "text": [
      "Loss: 0.00377526: 100%|██████████| 480/480 [00:50<00:00,  9.45it/s]\n",
      "Test Loss: 0.00206939: 100%|██████████| 3/3 [00:00<00:00, 15.38it/s]\n"
     ]
    },
    {
     "name": "stdout",
     "output_type": "stream",
     "text": [
      "Test Epoch: 14, Average Loss: 0.00498162\n"
     ]
    },
    {
     "name": "stderr",
     "output_type": "stream",
     "text": [
      "Loss: 0.00294671: 100%|██████████| 480/480 [00:50<00:00,  9.52it/s]\n",
      "Test Loss: 0.00199964: 100%|██████████| 3/3 [00:00<00:00, 15.07it/s]\n"
     ]
    },
    {
     "name": "stdout",
     "output_type": "stream",
     "text": [
      "Test Epoch: 15, Average Loss: 0.00441742\n"
     ]
    },
    {
     "name": "stderr",
     "output_type": "stream",
     "text": [
      "Loss: 0.00112523: 100%|██████████| 480/480 [00:50<00:00,  9.56it/s]\n",
      "Test Loss: 0.00114195: 100%|██████████| 3/3 [00:00<00:00, 16.75it/s]\n"
     ]
    },
    {
     "name": "stdout",
     "output_type": "stream",
     "text": [
      "Test Epoch: 16, Average Loss: 0.00278757\n"
     ]
    },
    {
     "name": "stderr",
     "output_type": "stream",
     "text": [
      "Loss: 0.00362510: 100%|██████████| 480/480 [00:50<00:00,  9.55it/s]\n",
      "Test Loss: 0.00554757: 100%|██████████| 3/3 [00:00<00:00, 16.48it/s]\n"
     ]
    },
    {
     "name": "stdout",
     "output_type": "stream",
     "text": [
      "Test Epoch: 17, Average Loss: 0.00279185\n"
     ]
    },
    {
     "name": "stderr",
     "output_type": "stream",
     "text": [
      "Loss: 0.00266227: 100%|██████████| 480/480 [00:50<00:00,  9.50it/s]\n",
      "Test Loss: 0.00140469: 100%|██████████| 3/3 [00:00<00:00, 15.21it/s]\n"
     ]
    },
    {
     "name": "stdout",
     "output_type": "stream",
     "text": [
      "Test Epoch: 18, Average Loss: 0.00338572\n"
     ]
    },
    {
     "name": "stderr",
     "output_type": "stream",
     "text": [
      "Loss: 0.00362336: 100%|██████████| 480/480 [00:50<00:00,  9.48it/s]\n",
      "Test Loss: 0.00096797: 100%|██████████| 3/3 [00:00<00:00, 15.95it/s]\n"
     ]
    },
    {
     "name": "stdout",
     "output_type": "stream",
     "text": [
      "Test Epoch: 19, Average Loss: 0.00314023\n"
     ]
    },
    {
     "name": "stderr",
     "output_type": "stream",
     "text": [
      "Loss: 0.00401230: 100%|██████████| 480/480 [00:49<00:00,  9.61it/s]\n",
      "Test Loss: 0.00128132: 100%|██████████| 3/3 [00:00<00:00, 16.76it/s]\n"
     ]
    },
    {
     "name": "stdout",
     "output_type": "stream",
     "text": [
      "Test Epoch: 20, Average Loss: 0.00369566\n"
     ]
    },
    {
     "name": "stderr",
     "output_type": "stream",
     "text": [
      "Loss: 0.00133235: 100%|██████████| 480/480 [00:50<00:00,  9.54it/s]\n",
      "Test Loss: 0.00924495: 100%|██████████| 3/3 [00:00<00:00, 16.97it/s]\n"
     ]
    },
    {
     "name": "stdout",
     "output_type": "stream",
     "text": [
      "Test Epoch: 21, Average Loss: 0.00687402\n"
     ]
    },
    {
     "name": "stderr",
     "output_type": "stream",
     "text": [
      "Loss: 0.00132250:  29%|██▉       | 138/480 [00:15<00:37,  9.18it/s]\n"
     ]
    },
    {
     "ename": "KeyboardInterrupt",
     "evalue": "",
     "output_type": "error",
     "traceback": [
      "\u001b[1;31m---------------------------------------------------------------------------\u001b[0m",
      "\u001b[1;31mKeyboardInterrupt\u001b[0m                         Traceback (most recent call last)",
      "Cell \u001b[1;32mIn[10], line 29\u001b[0m\n\u001b[0;32m     26\u001b[0m \u001b[38;5;28mprint\u001b[39m (\u001b[38;5;124m'\u001b[39m\u001b[38;5;124m======Total trainable parameters: \u001b[39m\u001b[38;5;124m'\u001b[39m, params)\n\u001b[0;32m     28\u001b[0m \u001b[38;5;28;01mfor\u001b[39;00m epoch \u001b[38;5;129;01min\u001b[39;00m \u001b[38;5;28mrange\u001b[39m(trainer\u001b[38;5;241m.\u001b[39mcur_epoch, training_epoch):\n\u001b[1;32m---> 29\u001b[0m \ttrainer\u001b[38;5;241m.\u001b[39mtrain(dataloader_train)\n\u001b[0;32m     31\u001b[0m \t\u001b[38;5;66;03m# Test the model every 3 epochs and save it to logs/results folder, also save the model to logs/final_model.pth\u001b[39;00m\n\u001b[0;32m     32\u001b[0m \t\u001b[38;5;28;01mif\u001b[39;00m (epoch) \u001b[38;5;241m%\u001b[39m \u001b[38;5;241m1\u001b[39m \u001b[38;5;241m==\u001b[39m \u001b[38;5;241m0\u001b[39m:\n",
      "Cell \u001b[1;32mIn[9], line 52\u001b[0m, in \u001b[0;36mEngine.train\u001b[1;34m(self, dataloader_train)\u001b[0m\n\u001b[0;32m     49\u001b[0m     loss_epoch \u001b[38;5;241m+\u001b[39m\u001b[38;5;241m=\u001b[39m \u001b[38;5;28mfloat\u001b[39m(loss\u001b[38;5;241m.\u001b[39mitem())\n\u001b[0;32m     50\u001b[0m     num_batches \u001b[38;5;241m+\u001b[39m\u001b[38;5;241m=\u001b[39m \u001b[38;5;241m1\u001b[39m\n\u001b[1;32m---> 52\u001b[0m     pbar\u001b[38;5;241m.\u001b[39mset_description(\u001b[38;5;124m\"\u001b[39m\u001b[38;5;124mLoss: \u001b[39m\u001b[38;5;132;01m{:.8f}\u001b[39;00m\u001b[38;5;124m\"\u001b[39m\u001b[38;5;241m.\u001b[39mformat(loss\u001b[38;5;241m.\u001b[39mitem()))\n\u001b[0;32m     54\u001b[0m pbar\u001b[38;5;241m.\u001b[39mclose()\n\u001b[0;32m     55\u001b[0m avg_loss \u001b[38;5;241m=\u001b[39m loss_epoch \u001b[38;5;241m/\u001b[39m num_batches\n",
      "File \u001b[1;32md:\\anaconda\\Lib\\site-packages\\tqdm\\std.py:1391\u001b[0m, in \u001b[0;36mtqdm.set_description\u001b[1;34m(self, desc, refresh)\u001b[0m\n\u001b[0;32m   1389\u001b[0m \u001b[38;5;28mself\u001b[39m\u001b[38;5;241m.\u001b[39mdesc \u001b[38;5;241m=\u001b[39m desc \u001b[38;5;241m+\u001b[39m \u001b[38;5;124m'\u001b[39m\u001b[38;5;124m: \u001b[39m\u001b[38;5;124m'\u001b[39m \u001b[38;5;28;01mif\u001b[39;00m desc \u001b[38;5;28;01melse\u001b[39;00m \u001b[38;5;124m'\u001b[39m\u001b[38;5;124m'\u001b[39m\n\u001b[0;32m   1390\u001b[0m \u001b[38;5;28;01mif\u001b[39;00m refresh:\n\u001b[1;32m-> 1391\u001b[0m     \u001b[38;5;28mself\u001b[39m\u001b[38;5;241m.\u001b[39mrefresh()\n",
      "File \u001b[1;32md:\\anaconda\\Lib\\site-packages\\tqdm\\std.py:1344\u001b[0m, in \u001b[0;36mtqdm.refresh\u001b[1;34m(self, nolock, lock_args)\u001b[0m\n\u001b[0;32m   1342\u001b[0m     \u001b[38;5;28;01melse\u001b[39;00m:\n\u001b[0;32m   1343\u001b[0m         \u001b[38;5;28mself\u001b[39m\u001b[38;5;241m.\u001b[39m_lock\u001b[38;5;241m.\u001b[39macquire()\n\u001b[1;32m-> 1344\u001b[0m \u001b[38;5;28mself\u001b[39m\u001b[38;5;241m.\u001b[39mdisplay()\n\u001b[0;32m   1345\u001b[0m \u001b[38;5;28;01mif\u001b[39;00m \u001b[38;5;129;01mnot\u001b[39;00m nolock:\n\u001b[0;32m   1346\u001b[0m     \u001b[38;5;28mself\u001b[39m\u001b[38;5;241m.\u001b[39m_lock\u001b[38;5;241m.\u001b[39mrelease()\n",
      "File \u001b[1;32md:\\anaconda\\Lib\\site-packages\\tqdm\\std.py:1492\u001b[0m, in \u001b[0;36mtqdm.display\u001b[1;34m(self, msg, pos)\u001b[0m\n\u001b[0;32m   1490\u001b[0m \u001b[38;5;28;01mif\u001b[39;00m pos:\n\u001b[0;32m   1491\u001b[0m     \u001b[38;5;28mself\u001b[39m\u001b[38;5;241m.\u001b[39mmoveto(pos)\n\u001b[1;32m-> 1492\u001b[0m \u001b[38;5;28mself\u001b[39m\u001b[38;5;241m.\u001b[39msp(\u001b[38;5;28mself\u001b[39m\u001b[38;5;241m.\u001b[39m\u001b[38;5;21m__str__\u001b[39m() \u001b[38;5;28;01mif\u001b[39;00m msg \u001b[38;5;129;01mis\u001b[39;00m \u001b[38;5;28;01mNone\u001b[39;00m \u001b[38;5;28;01melse\u001b[39;00m msg)\n\u001b[0;32m   1493\u001b[0m \u001b[38;5;28;01mif\u001b[39;00m pos:\n\u001b[0;32m   1494\u001b[0m     \u001b[38;5;28mself\u001b[39m\u001b[38;5;241m.\u001b[39mmoveto(\u001b[38;5;241m-\u001b[39mpos)\n",
      "File \u001b[1;32md:\\anaconda\\Lib\\site-packages\\tqdm\\std.py:347\u001b[0m, in \u001b[0;36mtqdm.status_printer.<locals>.print_status\u001b[1;34m(s)\u001b[0m\n\u001b[0;32m    345\u001b[0m \u001b[38;5;28;01mdef\u001b[39;00m \u001b[38;5;21mprint_status\u001b[39m(s):\n\u001b[0;32m    346\u001b[0m     len_s \u001b[38;5;241m=\u001b[39m disp_len(s)\n\u001b[1;32m--> 347\u001b[0m     fp_write(\u001b[38;5;124m'\u001b[39m\u001b[38;5;130;01m\\r\u001b[39;00m\u001b[38;5;124m'\u001b[39m \u001b[38;5;241m+\u001b[39m s \u001b[38;5;241m+\u001b[39m (\u001b[38;5;124m'\u001b[39m\u001b[38;5;124m \u001b[39m\u001b[38;5;124m'\u001b[39m \u001b[38;5;241m*\u001b[39m \u001b[38;5;28mmax\u001b[39m(last_len[\u001b[38;5;241m0\u001b[39m] \u001b[38;5;241m-\u001b[39m len_s, \u001b[38;5;241m0\u001b[39m)))\n\u001b[0;32m    348\u001b[0m     last_len[\u001b[38;5;241m0\u001b[39m] \u001b[38;5;241m=\u001b[39m len_s\n",
      "File \u001b[1;32md:\\anaconda\\Lib\\site-packages\\tqdm\\std.py:340\u001b[0m, in \u001b[0;36mtqdm.status_printer.<locals>.fp_write\u001b[1;34m(s)\u001b[0m\n\u001b[0;32m    339\u001b[0m \u001b[38;5;28;01mdef\u001b[39;00m \u001b[38;5;21mfp_write\u001b[39m(s):\n\u001b[1;32m--> 340\u001b[0m     fp\u001b[38;5;241m.\u001b[39mwrite(\u001b[38;5;28mstr\u001b[39m(s))\n\u001b[0;32m    341\u001b[0m     fp_flush()\n",
      "File \u001b[1;32md:\\anaconda\\Lib\\site-packages\\tqdm\\utils.py:127\u001b[0m, in \u001b[0;36mDisableOnWriteError.disable_on_exception.<locals>.inner\u001b[1;34m(*args, **kwargs)\u001b[0m\n\u001b[0;32m    125\u001b[0m \u001b[38;5;28;01mdef\u001b[39;00m \u001b[38;5;21minner\u001b[39m(\u001b[38;5;241m*\u001b[39margs, \u001b[38;5;241m*\u001b[39m\u001b[38;5;241m*\u001b[39mkwargs):\n\u001b[0;32m    126\u001b[0m     \u001b[38;5;28;01mtry\u001b[39;00m:\n\u001b[1;32m--> 127\u001b[0m         \u001b[38;5;28;01mreturn\u001b[39;00m func(\u001b[38;5;241m*\u001b[39margs, \u001b[38;5;241m*\u001b[39m\u001b[38;5;241m*\u001b[39mkwargs)\n\u001b[0;32m    128\u001b[0m     \u001b[38;5;28;01mexcept\u001b[39;00m \u001b[38;5;167;01mOSError\u001b[39;00m \u001b[38;5;28;01mas\u001b[39;00m e:\n\u001b[0;32m    129\u001b[0m         \u001b[38;5;28;01mif\u001b[39;00m e\u001b[38;5;241m.\u001b[39merrno \u001b[38;5;241m!=\u001b[39m \u001b[38;5;241m5\u001b[39m:\n",
      "File \u001b[1;32md:\\anaconda\\Lib\\site-packages\\ipykernel\\iostream.py:648\u001b[0m, in \u001b[0;36mOutStream.write\u001b[1;34m(self, string)\u001b[0m\n\u001b[0;32m    646\u001b[0m         \u001b[38;5;28mself\u001b[39m\u001b[38;5;241m.\u001b[39mpub_thread\u001b[38;5;241m.\u001b[39mschedule(\u001b[38;5;28mself\u001b[39m\u001b[38;5;241m.\u001b[39m_flush)\n\u001b[0;32m    647\u001b[0m     \u001b[38;5;28;01melse\u001b[39;00m:\n\u001b[1;32m--> 648\u001b[0m         \u001b[38;5;28mself\u001b[39m\u001b[38;5;241m.\u001b[39m_schedule_flush()\n\u001b[0;32m    650\u001b[0m \u001b[38;5;28;01mreturn\u001b[39;00m \u001b[38;5;28mlen\u001b[39m(string)\n",
      "File \u001b[1;32md:\\anaconda\\Lib\\site-packages\\ipykernel\\iostream.py:545\u001b[0m, in \u001b[0;36mOutStream._schedule_flush\u001b[1;34m(self)\u001b[0m\n\u001b[0;32m    542\u001b[0m \u001b[38;5;28;01mdef\u001b[39;00m \u001b[38;5;21m_schedule_in_thread\u001b[39m():\n\u001b[0;32m    543\u001b[0m     \u001b[38;5;28mself\u001b[39m\u001b[38;5;241m.\u001b[39m_io_loop\u001b[38;5;241m.\u001b[39mcall_later(\u001b[38;5;28mself\u001b[39m\u001b[38;5;241m.\u001b[39mflush_interval, \u001b[38;5;28mself\u001b[39m\u001b[38;5;241m.\u001b[39m_flush)\n\u001b[1;32m--> 545\u001b[0m \u001b[38;5;28mself\u001b[39m\u001b[38;5;241m.\u001b[39mpub_thread\u001b[38;5;241m.\u001b[39mschedule(_schedule_in_thread)\n",
      "File \u001b[1;32md:\\anaconda\\Lib\\site-packages\\ipykernel\\iostream.py:251\u001b[0m, in \u001b[0;36mIOPubThread.schedule\u001b[1;34m(self, f)\u001b[0m\n\u001b[0;32m    249\u001b[0m     \u001b[38;5;28mself\u001b[39m\u001b[38;5;241m.\u001b[39m_events\u001b[38;5;241m.\u001b[39mappend(f)\n\u001b[0;32m    250\u001b[0m     \u001b[38;5;66;03m# wake event thread (message content is ignored)\u001b[39;00m\n\u001b[1;32m--> 251\u001b[0m     \u001b[38;5;28mself\u001b[39m\u001b[38;5;241m.\u001b[39m_event_pipe\u001b[38;5;241m.\u001b[39msend(\u001b[38;5;124mb\u001b[39m\u001b[38;5;124m\"\u001b[39m\u001b[38;5;124m\"\u001b[39m)\n\u001b[0;32m    252\u001b[0m \u001b[38;5;28;01melse\u001b[39;00m:\n\u001b[0;32m    253\u001b[0m     f()\n",
      "File \u001b[1;32md:\\anaconda\\Lib\\site-packages\\zmq\\sugar\\socket.py:696\u001b[0m, in \u001b[0;36mSocket.send\u001b[1;34m(self, data, flags, copy, track, routing_id, group)\u001b[0m\n\u001b[0;32m    689\u001b[0m         data \u001b[38;5;241m=\u001b[39m zmq\u001b[38;5;241m.\u001b[39mFrame(\n\u001b[0;32m    690\u001b[0m             data,\n\u001b[0;32m    691\u001b[0m             track\u001b[38;5;241m=\u001b[39mtrack,\n\u001b[0;32m    692\u001b[0m             copy\u001b[38;5;241m=\u001b[39mcopy \u001b[38;5;129;01mor\u001b[39;00m \u001b[38;5;28;01mNone\u001b[39;00m,\n\u001b[0;32m    693\u001b[0m             copy_threshold\u001b[38;5;241m=\u001b[39m\u001b[38;5;28mself\u001b[39m\u001b[38;5;241m.\u001b[39mcopy_threshold,\n\u001b[0;32m    694\u001b[0m         )\n\u001b[0;32m    695\u001b[0m     data\u001b[38;5;241m.\u001b[39mgroup \u001b[38;5;241m=\u001b[39m group\n\u001b[1;32m--> 696\u001b[0m \u001b[38;5;28;01mreturn\u001b[39;00m \u001b[38;5;28msuper\u001b[39m()\u001b[38;5;241m.\u001b[39msend(data, flags\u001b[38;5;241m=\u001b[39mflags, copy\u001b[38;5;241m=\u001b[39mcopy, track\u001b[38;5;241m=\u001b[39mtrack)\n",
      "File \u001b[1;32mzmq/backend/cython/socket.pyx:742\u001b[0m, in \u001b[0;36mzmq.backend.cython.socket.Socket.send\u001b[1;34m()\u001b[0m\n",
      "File \u001b[1;32mzmq/backend/cython/socket.pyx:789\u001b[0m, in \u001b[0;36mzmq.backend.cython.socket.Socket.send\u001b[1;34m()\u001b[0m\n",
      "File \u001b[1;32mzmq/backend/cython/socket.pyx:250\u001b[0m, in \u001b[0;36mzmq.backend.cython.socket._send_copy\u001b[1;34m()\u001b[0m\n",
      "File \u001b[1;32md:\\anaconda\\Lib\\site-packages\\zmq\\backend\\cython\\checkrc.pxd:13\u001b[0m, in \u001b[0;36mzmq.backend.cython.checkrc._check_rc\u001b[1;34m()\u001b[0m\n",
      "\u001b[1;31mKeyboardInterrupt\u001b[0m: "
     ]
    }
   ],
   "source": [
    "import os\n",
    "print(os.getcwd())\n",
    "\n",
    "from codes.scheduler import CyclicCosineDecayLR\n",
    "\n",
    "# The scheduler is used to reduce the learning rate at specific epochs\n",
    "if scheduler:\n",
    "\tscheduler = CyclicCosineDecayLR(optimizer,\n",
    "\t                                init_decay_epochs=80,\n",
    "\t                                min_decay_lr=2.5e-6,\n",
    "\t                                restart_interval = 10,\n",
    "\t                                restart_lr=12.5e-5,\n",
    "\t                                warmup_epochs=20,\n",
    "\t                                warmup_start_lr=2.5e-6)\n",
    "\n",
    "\n",
    "trainer = Engine(model, optimizer, device, ema=None)\n",
    "\n",
    "# Load the saved model if load_saved_model is set to True\n",
    "if load_saved_model:\n",
    "\tmodel.load_state_dict(torch.load('logs/final_model.pth'))\n",
    " \n",
    "# Count the total number of trainable parameters\n",
    "model_parameters = filter(lambda p: p.requires_grad, model.parameters())\n",
    "params = sum([np.prod(p.size()) for p in model_parameters])\n",
    "print ('======Total trainable parameters: ', params)\n",
    "\n",
    "for epoch in range(trainer.cur_epoch, training_epoch):\n",
    "\ttrainer.train(dataloader_train)\n",
    "\n",
    "\t# Test the model every 3 epochs and save it to logs/results folder, also save the model to logs/final_model.pth\n",
    "\tif (epoch) % 1 == 0:\n",
    "\t\ttrainer.test(dataloader_test)\n",
    "\t\n",
    "\ttorch.save(model.state_dict(), os.path.join('logs', 'final_model.pth'))\n",
    "\t\n",
    "\tif scheduler:\n",
    "\t\tscheduler.step()\n"
   ]
  }
 ],
 "metadata": {
  "kernelspec": {
   "display_name": "sam",
   "language": "python",
   "name": "python3"
  },
  "language_info": {
   "codemirror_mode": {
    "name": "ipython",
    "version": 3
   },
   "file_extension": ".py",
   "mimetype": "text/x-python",
   "name": "python",
   "nbconvert_exporter": "python",
   "pygments_lexer": "ipython3",
   "version": "3.11.5"
  }
 },
 "nbformat": 4,
 "nbformat_minor": 2
}
